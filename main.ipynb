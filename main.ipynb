{
 "cells": [
  {
   "cell_type": "code",
   "execution_count": 4,
   "metadata": {},
   "outputs": [],
   "source": [
    "import cryo\n",
    "import polars as pl\n",
    "import json"
   ]
  },
  {
   "cell_type": "code",
   "execution_count": 5,
   "metadata": {},
   "outputs": [],
   "source": [
    "LIQUIDATION_EVENT_SIG = \"event LiquidationCall(address indexed collateralAsset, address indexed debtAsset, address indexed user, uint256 debtToCover, uint256 liquidatedCollateralAmount, address liquidator, bool receiveAToken);\"\n",
    "LIQUIDATION_EVENT_HASH = \"0xe413a321e8681d831f4dbccbca790d2952b56f977908e45be37335533e005286\"\n",
    "AAVE_V3_POOL = \"0x87870Bca3F3fD6335C3F4ce8392D69350B4fA4E2\"\n",
    "\n",
    "def convert_to_type(data, type, data_offset = 0):\n",
    "    ''' Convert raw data to a specific type\n",
    "    data: the raw data (bytes)\n",
    "    type: the type of the data\n",
    "    data_offset: the offset of the data in the raw data'''\n",
    "    \n",
    "    if type == 'string':\n",
    "        offset = int(data[data_offset+12: data_offset + 32].hex(), 16)\n",
    "        length = int(data[offset:offset + 32].hex(), 16)\n",
    "        return data[offset + 32: offset + 32 + length].decode('utf-8')\n",
    "    elif '[]' in type:\n",
    "        # TODO\n",
    "        raise ValueError(\"Array not implemented yet\")\n",
    "    elif len(type) > 4 and type[:4] == 'uint':\n",
    "        return float(int(data[data_offset+22: data_offset+32].hex(), 16))\n",
    "    elif type == 'address':\n",
    "        return '0x' + data[12+data_offset:32+data_offset].hex()\n",
    "    elif type == 'bool':\n",
    "        return int(data[data_offset: 32 + data_offset], 16) > 0\n",
    "    elif len(type) > 5 and type[:5] == 'bytes':\n",
    "        bytes_left = 32 - int(type[5:])\n",
    "        return '0x' + data[data_offset+bytes_left: data_offset+32].hex()\n",
    "    else:\n",
    "        raise ValueError(\"Type not handled yet\")\n",
    "    \n",
    "def parse_raw_events(raw_events: pl.DataFrame, signature: str) -> pl.DataFrame:\n",
    "    '''\n",
    "    Parse raw events from a DataFrame, this dataframe should contain the following columns:\n",
    "    - topic0 to topic3: the topics of the event\n",
    "    - data: the data of the event\n",
    "    The signature is used to determine the type of the event, it should look like this:\n",
    "    \"EventName(uint256 indexed arg1, uint256 indexed arg2, T arg3, ...)\"\n",
    "\n",
    "    The function works with basic types (string, uint, address, bool, bytes) but not yet (TODO) with arrays or structs.\n",
    "    '''\n",
    "    \n",
    "    # Parse the signature\n",
    "    first_parenthesis = signature.find('(')\n",
    "    last_parenthesis = signature.rfind(')')\n",
    "\n",
    "    print(f'Parsing Event name: {signature[:first_parenthesis]}')\n",
    "\n",
    "    types_str = signature[first_parenthesis + 1:last_parenthesis]\n",
    "    types = types_str.split(',')\n",
    "    indexed_types, data_types = [], []\n",
    "\n",
    "    for t in types:\n",
    "        parts = t.strip().split(' ')\n",
    "        if 'indexed' in parts:\n",
    "            indexed_types.append((parts[0], parts[-1]))\n",
    "        else:\n",
    "            data_types.append((parts[0], parts[-1]))\n",
    "\n",
    "    dfs = []\n",
    "    for index, (type, name) in enumerate(data_types):\n",
    "        data_events_cur_df = raw_events.select([\n",
    "            pl.col(\"data\").map_elements(lambda x: convert_to_type(x, type, 32*index)).alias(name)\n",
    "        ] + [pl.col(\"block_number\"), pl.col(\"transaction_index\", \"log_index\")])\n",
    "        dfs.append(data_events_cur_df)\n",
    "\n",
    "    data_events_df = raw_events.select([\n",
    "        pl.col(\"data\").map_elements(lambda x: convert_to_type(x, type, 32*index)).alias(name)\n",
    "        for index, (type, name) in enumerate(data_types)\n",
    "    ] + [pl.col(\"block_number\"), pl.col(\"transaction_index\", \"log_index\")])\n",
    "    indexed_events_df = raw_events.select([\n",
    "        pl.col(f\"topic{1+index}\").map_elements(lambda x: convert_to_type(x, type)).alias(name)\n",
    "        for index, (type, name) in enumerate(indexed_types)\n",
    "    ] + [pl.col(\"block_number\"), pl.col(\"transaction_index\", \"log_index\")])\n",
    "\n",
    "    print(f'Indexed types: {indexed_types}')\n",
    "    print(f'Data types: {data_types}')\n",
    "    \n",
    "\n",
    "    res_df = indexed_events_df\n",
    "    for df in dfs:\n",
    "        res_df = res_df.join(df, on=[\"block_number\", \"transaction_index\", \"log_index\"], how=\"inner\")\n",
    "\n",
    "    return res_df"
   ]
  },
  {
   "cell_type": "markdown",
   "metadata": {},
   "source": [
    "# Liquidation events"
   ]
  },
  {
   "cell_type": "code",
   "execution_count": 6,
   "metadata": {},
   "outputs": [
    {
     "name": "stdout",
     "output_type": "stream",
     "text": [
      "Parsing Event name: event LiquidationCall\n"
     ]
    },
    {
     "name": "stderr",
     "output_type": "stream",
     "text": [
      "sys:1: MapWithoutReturnDtypeWarning: Calling `map_elements` without specifying `return_dtype` can lead to unpredictable results. Specify `return_dtype` to silence this warning.\n",
      "sys:1: MapWithoutReturnDtypeWarning: Calling `map_elements` without specifying `return_dtype` can lead to unpredictable results. Specify `return_dtype` to silence this warning.\n",
      "sys:1: MapWithoutReturnDtypeWarning: Calling `map_elements` without specifying `return_dtype` can lead to unpredictable results. Specify `return_dtype` to silence this warning.\n",
      "sys:1: MapWithoutReturnDtypeWarning: Calling `map_elements` without specifying `return_dtype` can lead to unpredictable results. Specify `return_dtype` to silence this warning.\n",
      "thread 'polars-0' panicked at py-polars/src/map/series.rs:213:19:\n",
      "python function failed ValueError: invalid literal for int() with base 16: b'\\x00\\x00\\x00\\x00\\x00\\x00\\x00\\x00\\x00\\x00\\x00\\x00\\x00\\x00\\x00\\x00\\x00\\x00\\x00\\x00\\x00\\x00\\x00\\x00\\x00\\x00\\x00\\x00\\x00\\x00\\x00\\x00'\n",
      "note: run with `RUST_BACKTRACE=1` environment variable to display a backtrace\n",
      "--- PyO3 is resuming a panic after fetching a PanicException from Python. ---\n",
      "Python stack trace below:\n"
     ]
    },
    {
     "ename": "PanicException",
     "evalue": "python function failed ValueError: invalid literal for int() with base 16: b'\\x00\\x00\\x00\\x00\\x00\\x00\\x00\\x00\\x00\\x00\\x00\\x00\\x00\\x00\\x00\\x00\\x00\\x00\\x00\\x00\\x00\\x00\\x00\\x00\\x00\\x00\\x00\\x00\\x00\\x00\\x00\\x00'",
     "output_type": "error",
     "traceback": [
      "\u001b[0;31m---------------------------------------------------------------------------\u001b[0m",
      "\u001b[0;31mPanicException\u001b[0m                            Traceback (most recent call last)",
      "File \u001b[0;32m/usr/local/lib/python3.11/site-packages/polars/expr/expr.py:4127\u001b[0m, in \u001b[0;36mExpr._map_batches_wrapper.__call__\u001b[0;34m(self, *args, **kwargs)\u001b[0m\n\u001b[1;32m   4126\u001b[0m \u001b[38;5;28;01mdef\u001b[39;00m \u001b[38;5;21m__call__\u001b[39m(\u001b[38;5;28mself\u001b[39m, \u001b[38;5;241m*\u001b[39margs: Any, \u001b[38;5;241m*\u001b[39m\u001b[38;5;241m*\u001b[39mkwargs: Any) \u001b[38;5;241m-\u001b[39m\u001b[38;5;241m>\u001b[39m Any:\n\u001b[0;32m-> 4127\u001b[0m     result \u001b[38;5;241m=\u001b[39m \u001b[38;5;28;43mself\u001b[39;49m\u001b[38;5;241;43m.\u001b[39;49m\u001b[43mfunction\u001b[49m\u001b[43m(\u001b[49m\u001b[38;5;241;43m*\u001b[39;49m\u001b[43margs\u001b[49m\u001b[43m,\u001b[49m\u001b[43m \u001b[49m\u001b[38;5;241;43m*\u001b[39;49m\u001b[38;5;241;43m*\u001b[39;49m\u001b[43mkwargs\u001b[49m\u001b[43m)\u001b[49m\n\u001b[1;32m   4128\u001b[0m     \u001b[38;5;28;01mif\u001b[39;00m _check_for_numpy(result) \u001b[38;5;129;01mand\u001b[39;00m \u001b[38;5;28misinstance\u001b[39m(result, np\u001b[38;5;241m.\u001b[39mndarray):\n\u001b[1;32m   4129\u001b[0m         result \u001b[38;5;241m=\u001b[39m pl\u001b[38;5;241m.\u001b[39mSeries(result, dtype\u001b[38;5;241m=\u001b[39m\u001b[38;5;28mself\u001b[39m\u001b[38;5;241m.\u001b[39mreturn_dtype)\n",
      "File \u001b[0;32m/usr/local/lib/python3.11/site-packages/polars/expr/expr.py:4466\u001b[0m, in \u001b[0;36mExpr.map_elements.<locals>.wrap_f\u001b[0;34m(x)\u001b[0m\n\u001b[1;32m   4464\u001b[0m \u001b[38;5;28;01mwith\u001b[39;00m warnings\u001b[38;5;241m.\u001b[39mcatch_warnings():\n\u001b[1;32m   4465\u001b[0m     warnings\u001b[38;5;241m.\u001b[39msimplefilter(\u001b[38;5;124m\"\u001b[39m\u001b[38;5;124mignore\u001b[39m\u001b[38;5;124m\"\u001b[39m, PolarsInefficientMapWarning)\n\u001b[0;32m-> 4466\u001b[0m     \u001b[38;5;28;01mreturn\u001b[39;00m \u001b[43mx\u001b[49m\u001b[38;5;241;43m.\u001b[39;49m\u001b[43mmap_elements\u001b[49m\u001b[43m(\u001b[49m\n\u001b[1;32m   4467\u001b[0m \u001b[43m        \u001b[49m\u001b[43mfunction\u001b[49m\u001b[43m,\u001b[49m\u001b[43m \u001b[49m\u001b[43mreturn_dtype\u001b[49m\u001b[38;5;241;43m=\u001b[39;49m\u001b[43mreturn_dtype\u001b[49m\u001b[43m,\u001b[49m\u001b[43m \u001b[49m\u001b[43mskip_nulls\u001b[49m\u001b[38;5;241;43m=\u001b[39;49m\u001b[43mskip_nulls\u001b[49m\n\u001b[1;32m   4468\u001b[0m \u001b[43m    \u001b[49m\u001b[43m)\u001b[49m\n",
      "File \u001b[0;32m/usr/local/lib/python3.11/site-packages/polars/series/series.py:5331\u001b[0m, in \u001b[0;36mSeries.map_elements\u001b[0;34m(self, function, return_dtype, skip_nulls)\u001b[0m\n\u001b[1;32m   5327\u001b[0m     pl_return_dtype \u001b[38;5;241m=\u001b[39m py_type_to_dtype(return_dtype)\n\u001b[1;32m   5329\u001b[0m warn_on_inefficient_map(function, columns\u001b[38;5;241m=\u001b[39m[\u001b[38;5;28mself\u001b[39m\u001b[38;5;241m.\u001b[39mname], map_target\u001b[38;5;241m=\u001b[39m\u001b[38;5;124m\"\u001b[39m\u001b[38;5;124mseries\u001b[39m\u001b[38;5;124m\"\u001b[39m)\n\u001b[1;32m   5330\u001b[0m \u001b[38;5;28;01mreturn\u001b[39;00m \u001b[38;5;28mself\u001b[39m\u001b[38;5;241m.\u001b[39m_from_pyseries(\n\u001b[0;32m-> 5331\u001b[0m     \u001b[38;5;28;43mself\u001b[39;49m\u001b[38;5;241;43m.\u001b[39;49m\u001b[43m_s\u001b[49m\u001b[38;5;241;43m.\u001b[39;49m\u001b[43mapply_lambda\u001b[49m\u001b[43m(\u001b[49m\u001b[43mfunction\u001b[49m\u001b[43m,\u001b[49m\u001b[43m \u001b[49m\u001b[43mpl_return_dtype\u001b[49m\u001b[43m,\u001b[49m\u001b[43m \u001b[49m\u001b[43mskip_nulls\u001b[49m\u001b[43m)\u001b[49m\n\u001b[1;32m   5332\u001b[0m )\n",
      "\u001b[0;31mPanicException\u001b[0m: python function failed ValueError: invalid literal for int() with base 16: b'\\x00\\x00\\x00\\x00\\x00\\x00\\x00\\x00\\x00\\x00\\x00\\x00\\x00\\x00\\x00\\x00\\x00\\x00\\x00\\x00\\x00\\x00\\x00\\x00\\x00\\x00\\x00\\x00\\x00\\x00\\x00\\x00'"
     ]
    },
    {
     "ename": "PanicException",
     "evalue": "python function failed ValueError: invalid literal for int() with base 16: b'\\x00\\x00\\x00\\x00\\x00\\x00\\x00\\x00\\x00\\x00\\x00\\x00\\x00\\x00\\x00\\x00\\x00\\x00\\x00\\x00\\x00\\x00\\x00\\x00\\x00\\x00\\x00\\x00\\x00\\x00\\x00\\x00'",
     "output_type": "error",
     "traceback": [
      "\u001b[0;31m---------------------------------------------------------------------------\u001b[0m",
      "\u001b[0;31mPanicException\u001b[0m                            Traceback (most recent call last)",
      "Cell \u001b[0;32mIn[6], line 18\u001b[0m\n\u001b[1;32m     15\u001b[0m liquidations_raw\u001b[38;5;241m.\u001b[39mhead(\u001b[38;5;241m5\u001b[39m)\n\u001b[1;32m     17\u001b[0m \u001b[38;5;66;03m# Parse the raw events to a DataFrame with a specific event signature\u001b[39;00m\n\u001b[0;32m---> 18\u001b[0m liquidations \u001b[38;5;241m=\u001b[39m \u001b[43mparse_raw_events\u001b[49m\u001b[43m(\u001b[49m\u001b[43mliquidations_raw\u001b[49m\u001b[43m,\u001b[49m\u001b[43m \u001b[49m\u001b[43mLIQUIDATION_EVENT_SIG\u001b[49m\u001b[43m)\u001b[49m\n\u001b[1;32m     20\u001b[0m liquidations\u001b[38;5;241m.\u001b[39mhead(\u001b[38;5;241m5\u001b[39m)\n",
      "Cell \u001b[0;32mIn[5], line 60\u001b[0m, in \u001b[0;36mparse_raw_events\u001b[0;34m(raw_events, signature)\u001b[0m\n\u001b[1;32m     58\u001b[0m dfs \u001b[38;5;241m=\u001b[39m []\n\u001b[1;32m     59\u001b[0m \u001b[38;5;28;01mfor\u001b[39;00m index, (\u001b[38;5;28mtype\u001b[39m, name) \u001b[38;5;129;01min\u001b[39;00m \u001b[38;5;28menumerate\u001b[39m(data_types):\n\u001b[0;32m---> 60\u001b[0m     data_events_cur_df \u001b[38;5;241m=\u001b[39m \u001b[43mraw_events\u001b[49m\u001b[38;5;241;43m.\u001b[39;49m\u001b[43mselect\u001b[49m\u001b[43m(\u001b[49m\u001b[43m[\u001b[49m\n\u001b[1;32m     61\u001b[0m \u001b[43m        \u001b[49m\u001b[43mpl\u001b[49m\u001b[38;5;241;43m.\u001b[39;49m\u001b[43mcol\u001b[49m\u001b[43m(\u001b[49m\u001b[38;5;124;43m\"\u001b[39;49m\u001b[38;5;124;43mdata\u001b[39;49m\u001b[38;5;124;43m\"\u001b[39;49m\u001b[43m)\u001b[49m\u001b[38;5;241;43m.\u001b[39;49m\u001b[43mmap_elements\u001b[49m\u001b[43m(\u001b[49m\u001b[38;5;28;43;01mlambda\u001b[39;49;00m\u001b[43m \u001b[49m\u001b[43mx\u001b[49m\u001b[43m:\u001b[49m\u001b[43m \u001b[49m\u001b[43mconvert_to_type\u001b[49m\u001b[43m(\u001b[49m\u001b[43mx\u001b[49m\u001b[43m,\u001b[49m\u001b[43m \u001b[49m\u001b[38;5;28;43mtype\u001b[39;49m\u001b[43m,\u001b[49m\u001b[43m \u001b[49m\u001b[38;5;241;43m32\u001b[39;49m\u001b[38;5;241;43m*\u001b[39;49m\u001b[43mindex\u001b[49m\u001b[43m)\u001b[49m\u001b[43m)\u001b[49m\u001b[38;5;241;43m.\u001b[39;49m\u001b[43malias\u001b[49m\u001b[43m(\u001b[49m\u001b[43mname\u001b[49m\u001b[43m)\u001b[49m\n\u001b[1;32m     62\u001b[0m \u001b[43m    \u001b[49m\u001b[43m]\u001b[49m\u001b[43m \u001b[49m\u001b[38;5;241;43m+\u001b[39;49m\u001b[43m \u001b[49m\u001b[43m[\u001b[49m\u001b[43mpl\u001b[49m\u001b[38;5;241;43m.\u001b[39;49m\u001b[43mcol\u001b[49m\u001b[43m(\u001b[49m\u001b[38;5;124;43m\"\u001b[39;49m\u001b[38;5;124;43mblock_number\u001b[39;49m\u001b[38;5;124;43m\"\u001b[39;49m\u001b[43m)\u001b[49m\u001b[43m,\u001b[49m\u001b[43m \u001b[49m\u001b[43mpl\u001b[49m\u001b[38;5;241;43m.\u001b[39;49m\u001b[43mcol\u001b[49m\u001b[43m(\u001b[49m\u001b[38;5;124;43m\"\u001b[39;49m\u001b[38;5;124;43mtransaction_index\u001b[39;49m\u001b[38;5;124;43m\"\u001b[39;49m\u001b[43m,\u001b[49m\u001b[43m \u001b[49m\u001b[38;5;124;43m\"\u001b[39;49m\u001b[38;5;124;43mlog_index\u001b[39;49m\u001b[38;5;124;43m\"\u001b[39;49m\u001b[43m)\u001b[49m\u001b[43m]\u001b[49m\u001b[43m)\u001b[49m\n\u001b[1;32m     63\u001b[0m     dfs\u001b[38;5;241m.\u001b[39mappend(data_events_cur_df)\n\u001b[1;32m     65\u001b[0m data_events_df \u001b[38;5;241m=\u001b[39m raw_events\u001b[38;5;241m.\u001b[39mselect([\n\u001b[1;32m     66\u001b[0m     pl\u001b[38;5;241m.\u001b[39mcol(\u001b[38;5;124m\"\u001b[39m\u001b[38;5;124mdata\u001b[39m\u001b[38;5;124m\"\u001b[39m)\u001b[38;5;241m.\u001b[39mmap_elements(\u001b[38;5;28;01mlambda\u001b[39;00m x: convert_to_type(x, \u001b[38;5;28mtype\u001b[39m, \u001b[38;5;241m32\u001b[39m\u001b[38;5;241m*\u001b[39mindex))\u001b[38;5;241m.\u001b[39malias(name)\n\u001b[1;32m     67\u001b[0m     \u001b[38;5;28;01mfor\u001b[39;00m index, (\u001b[38;5;28mtype\u001b[39m, name) \u001b[38;5;129;01min\u001b[39;00m \u001b[38;5;28menumerate\u001b[39m(data_types)\n\u001b[1;32m     68\u001b[0m ] \u001b[38;5;241m+\u001b[39m [pl\u001b[38;5;241m.\u001b[39mcol(\u001b[38;5;124m\"\u001b[39m\u001b[38;5;124mblock_number\u001b[39m\u001b[38;5;124m\"\u001b[39m), pl\u001b[38;5;241m.\u001b[39mcol(\u001b[38;5;124m\"\u001b[39m\u001b[38;5;124mtransaction_index\u001b[39m\u001b[38;5;124m\"\u001b[39m, \u001b[38;5;124m\"\u001b[39m\u001b[38;5;124mlog_index\u001b[39m\u001b[38;5;124m\"\u001b[39m)])\n",
      "File \u001b[0;32m/usr/local/lib/python3.11/site-packages/polars/dataframe/frame.py:7701\u001b[0m, in \u001b[0;36mDataFrame.select\u001b[0;34m(self, *exprs, **named_exprs)\u001b[0m\n\u001b[1;32m   7601\u001b[0m \u001b[38;5;28;01mdef\u001b[39;00m \u001b[38;5;21mselect\u001b[39m(\n\u001b[1;32m   7602\u001b[0m     \u001b[38;5;28mself\u001b[39m, \u001b[38;5;241m*\u001b[39mexprs: IntoExpr \u001b[38;5;241m|\u001b[39m Iterable[IntoExpr], \u001b[38;5;241m*\u001b[39m\u001b[38;5;241m*\u001b[39mnamed_exprs: IntoExpr\n\u001b[1;32m   7603\u001b[0m ) \u001b[38;5;241m-\u001b[39m\u001b[38;5;241m>\u001b[39m DataFrame:\n\u001b[1;32m   7604\u001b[0m \u001b[38;5;250m    \u001b[39m\u001b[38;5;124;03m\"\"\"\u001b[39;00m\n\u001b[1;32m   7605\u001b[0m \u001b[38;5;124;03m    Select columns from this DataFrame.\u001b[39;00m\n\u001b[1;32m   7606\u001b[0m \n\u001b[0;32m   (...)\u001b[0m\n\u001b[1;32m   7699\u001b[0m \u001b[38;5;124;03m    └───────────┘\u001b[39;00m\n\u001b[1;32m   7700\u001b[0m \u001b[38;5;124;03m    \"\"\"\u001b[39;00m\n\u001b[0;32m-> 7701\u001b[0m     \u001b[38;5;28;01mreturn\u001b[39;00m \u001b[38;5;28;43mself\u001b[39;49m\u001b[38;5;241;43m.\u001b[39;49m\u001b[43mlazy\u001b[49m\u001b[43m(\u001b[49m\u001b[43m)\u001b[49m\u001b[38;5;241;43m.\u001b[39;49m\u001b[43mselect\u001b[49m\u001b[43m(\u001b[49m\u001b[38;5;241;43m*\u001b[39;49m\u001b[43mexprs\u001b[49m\u001b[43m,\u001b[49m\u001b[43m \u001b[49m\u001b[38;5;241;43m*\u001b[39;49m\u001b[38;5;241;43m*\u001b[39;49m\u001b[43mnamed_exprs\u001b[49m\u001b[43m)\u001b[49m\u001b[38;5;241;43m.\u001b[39;49m\u001b[43mcollect\u001b[49m\u001b[43m(\u001b[49m\u001b[43m_eager\u001b[49m\u001b[38;5;241;43m=\u001b[39;49m\u001b[38;5;28;43;01mTrue\u001b[39;49;00m\u001b[43m)\u001b[49m\n",
      "File \u001b[0;32m/usr/local/lib/python3.11/site-packages/polars/lazyframe/frame.py:1708\u001b[0m, in \u001b[0;36mLazyFrame.collect\u001b[0;34m(self, type_coercion, predicate_pushdown, projection_pushdown, simplify_expression, slice_pushdown, comm_subplan_elim, comm_subexpr_elim, no_optimization, streaming, background, _eager)\u001b[0m\n\u001b[1;32m   1705\u001b[0m \u001b[38;5;28;01mif\u001b[39;00m background:\n\u001b[1;32m   1706\u001b[0m     \u001b[38;5;28;01mreturn\u001b[39;00m InProcessQuery(ldf\u001b[38;5;241m.\u001b[39mcollect_concurrently())\n\u001b[0;32m-> 1708\u001b[0m \u001b[38;5;28;01mreturn\u001b[39;00m wrap_df(\u001b[43mldf\u001b[49m\u001b[38;5;241;43m.\u001b[39;49m\u001b[43mcollect\u001b[49m\u001b[43m(\u001b[49m\u001b[43m)\u001b[49m)\n",
      "\u001b[0;31mPanicException\u001b[0m: python function failed ValueError: invalid literal for int() with base 16: b'\\x00\\x00\\x00\\x00\\x00\\x00\\x00\\x00\\x00\\x00\\x00\\x00\\x00\\x00\\x00\\x00\\x00\\x00\\x00\\x00\\x00\\x00\\x00\\x00\\x00\\x00\\x00\\x00\\x00\\x00\\x00\\x00'"
     ]
    }
   ],
   "source": [
    "# Collect the raw events with specific cryo params\n",
    "params = {\n",
    "    \"datatype\": \"events\",\n",
    "    \"blocks\": [\"16M:\"],\n",
    "    \"inner_request_size\": 10000,\n",
    "    \"contract\": [AAVE_V3_POOL],\n",
    "    \"topic0\": [LIQUIDATION_EVENT_HASH]\n",
    "}\n",
    "\n",
    "# Collect the raw events with cryo\n",
    "liquidations_raw = cryo.collect(\n",
    "    **params\n",
    ")\n",
    "\n",
    "liquidations_raw.head(5)\n",
    "\n",
    "# Parse the raw events to a DataFrame with a specific event signature\n",
    "liquidations = parse_raw_events(liquidations_raw, LIQUIDATION_EVENT_SIG)\n",
    "\n",
    "liquidations.head(5)"
   ]
  }
 ],
 "metadata": {
  "kernelspec": {
   "display_name": "Python 3",
   "language": "python",
   "name": "python3"
  },
  "language_info": {
   "codemirror_mode": {
    "name": "ipython",
    "version": 3
   },
   "file_extension": ".py",
   "mimetype": "text/x-python",
   "name": "python",
   "nbconvert_exporter": "python",
   "pygments_lexer": "ipython3",
   "version": "3.11.5"
  }
 },
 "nbformat": 4,
 "nbformat_minor": 2
}
