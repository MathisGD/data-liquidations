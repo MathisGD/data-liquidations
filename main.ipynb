{
 "cells": [
  {
   "cell_type": "markdown",
   "metadata": {},
   "source": [
    "# Utils"
   ]
  },
  {
   "cell_type": "code",
   "execution_count": 23,
   "metadata": {},
   "outputs": [],
   "source": [
    "import cryo\n",
    "import polars as pl"
   ]
  },
  {
   "cell_type": "code",
   "execution_count": 24,
   "metadata": {},
   "outputs": [],
   "source": [
    "# Utils functions\n",
    "\n",
    "def convert_to_type(data, type, data_offset = 0):\n",
    "    ''' Convert raw data to a specific type\n",
    "    data: the raw data (bytes)\n",
    "    type: the type of the data\n",
    "    data_offset: the offset of the data in the raw data'''\n",
    "    \n",
    "    if type == 'string':\n",
    "        offset = int(data[data_offset: data_offset+32].hex(), 16)\n",
    "        length = int(data[offset:offset + 32].hex(), 16)\n",
    "        return data[offset + 32: offset + 32 + length].decode('utf-8')\n",
    "    elif len(type) > 4 and type[:4] == 'uint':\n",
    "        if (data[data_offset+22: data_offset+32].hex() == ''):\n",
    "            return 0\n",
    "        return float(int(data[data_offset+22: data_offset+32].hex(), 16))\n",
    "    elif len(type) > 3 and type[:3] == 'int':\n",
    "        if (data[data_offset+22: data_offset+32].hex() == ''):\n",
    "            return 0\n",
    "        return float(int(data[data_offset+22: data_offset+32].hex(), 16))\n",
    "    elif type == 'address':\n",
    "        return '0x' + data[12+data_offset:32+data_offset].hex()\n",
    "    elif type == 'bool':\n",
    "        return int(data[data_offset: 32 + data_offset].hex(), 16) > 0\n",
    "    elif len(type) > 5 and type[:5] == 'bytes':\n",
    "        bytes_left = 32 - int(type[5:])\n",
    "        return '0x' + data[data_offset+bytes_left: data_offset+32].hex()\n",
    "    else:\n",
    "        raise ValueError(\"Type not handled yet\")\n",
    "\n",
    "def type_name(type):\n",
    "    if type == 'string':\n",
    "        return type(str)\n",
    "    elif len(type) > 4 and type[:4] == 'uint':\n",
    "        return type(int)\n",
    "    elif len(type) > 3 and type[:3] == 'int':\n",
    "        return type(int)\n",
    "    elif type == 'address':\n",
    "        return type(str)\n",
    "    elif type == 'bool':\n",
    "        return type(bool)\n",
    "    elif len(type) > 5 and type[:5] == 'bytes':\n",
    "        return type(str)\n",
    "    else:\n",
    "        raise ValueError(\"Type not handled yet\")\n",
    "    \n",
    "def parse_raw_events(raw_events: pl.DataFrame, signature: str) -> pl.DataFrame:\n",
    "    '''\n",
    "    Parse raw events from a DataFrame, this dataframe should contain the following columns:\n",
    "    - topic0 to topic3: the topics of the event\n",
    "    - data: the data of the event\n",
    "    The signature is used to determine the type of the event, it should look like this:\n",
    "    \"EventName(uint256 indexed arg1, uint256 indexed arg2, T arg3, ...)\"\n",
    "\n",
    "    The function works with basic types (string, uint, address, bool, bytes) but not yet (TODO) with arrays or structs.\n",
    "    '''\n",
    "    \n",
    "    # Parse the signature\n",
    "    first_parenthesis = signature.find('(')\n",
    "    last_parenthesis = signature.rfind(')')\n",
    "\n",
    "    print(f'Parsing Event name: {signature[:first_parenthesis]}')\n",
    "\n",
    "    types_str = signature[first_parenthesis + 1:last_parenthesis]\n",
    "    types = types_str.split(',')\n",
    "    indexed_types, data_types = [], []\n",
    "\n",
    "    for t in types:\n",
    "        parts = t.strip().split(' ')\n",
    "        if 'indexed' in parts:\n",
    "            indexed_types.append((parts[0], parts[-1]))\n",
    "        else:\n",
    "            data_types.append((parts[0], parts[-1]))\n",
    "\n",
    "    dfs = []\n",
    "    for index, (type, name) in enumerate(data_types):\n",
    "        data_events_cur_df = raw_events.select([\n",
    "            pl.col(\"data\").map_elements(lambda x: convert_to_type(x, type, 32*index), return_dtype=type_name(type)).alias(name)\n",
    "        ] + [pl.col(\"block_number\"), pl.col(\"transaction_index\", \"log_index\")])\n",
    "        dfs.append(data_events_cur_df)\n",
    "\n",
    "    indexed_events_df = raw_events.select([\n",
    "        pl.col(f\"topic{1+index}\").map_elements(lambda x: convert_to_type(x, type), return_dtype=type_name(type)).alias(name)\n",
    "        for index, (type, name) in enumerate(indexed_types)\n",
    "    ] + [pl.col(\"block_number\"), pl.col(\"transaction_index\", \"log_index\")])\n",
    "\n",
    "    print(f'Indexed types: {indexed_types}')\n",
    "    print(f'Data types: {data_types}')\n",
    "    \n",
    "\n",
    "    res_df = indexed_events_df\n",
    "    for df in dfs:\n",
    "        res_df = res_df.join(df, on=[\"block_number\", \"transaction_index\", \"log_index\"], how=\"inner\")\n",
    "\n",
    "    return res_df"
   ]
  },
  {
   "cell_type": "code",
   "execution_count": 25,
   "metadata": {},
   "outputs": [],
   "source": [
    "# Block timestamps database\n",
    "\n",
    "blocks: pl.DataFrame = (\n",
    "    pl.scan_parquet(\"blocks__block_time/*.parquet\")\n",
    "    .collect()\n",
    ")\n",
    "blocks = blocks.with_columns(\n",
    "    pl.col(\"timestamp\").alias(\"temp\")\n",
    ")\n",
    "blocks = blocks.with_columns(\n",
    "    # Expects timestamps in micro seconds\n",
    "    (pl.col(\"temp\").cast(pl.Int64) * 1000000).cast(pl.Datetime)\n",
    ")\n",
    "blocks.columns = ['block_number', 'timestamp', 'time']"
   ]
  },
  {
   "cell_type": "markdown",
   "metadata": {},
   "source": [
    "# Liquidation events"
   ]
  },
  {
   "cell_type": "code",
   "execution_count": 26,
   "metadata": {},
   "outputs": [
    {
     "name": "stdout",
     "output_type": "stream",
     "text": [
      "Parsing Event name: event LiquidationCall\n",
      "Indexed types: [('address', 'collateralAsset'), ('address', 'debtAsset'), ('address', 'user')]\n",
      "Data types: [('uint256', 'debtToCover'), ('uint256', 'liquidatedCollateralAmount'), ('address', 'liquidator'), ('bool', 'receiveAToken')]\n"
     ]
    },
    {
     "name": "stderr",
     "output_type": "stream",
     "text": [
      "sys:1: MapWithoutReturnDtypeWarning: Calling `map_elements` without specifying `return_dtype` can lead to unpredictable results. Specify `return_dtype` to silence this warning.\n",
      "sys:1: MapWithoutReturnDtypeWarning: Calling `map_elements` without specifying `return_dtype` can lead to unpredictable results. Specify `return_dtype` to silence this warning.\n",
      "sys:1: MapWithoutReturnDtypeWarning: Calling `map_elements` without specifying `return_dtype` can lead to unpredictable results. Specify `return_dtype` to silence this warning.\n",
      "sys:1: MapWithoutReturnDtypeWarning: Calling `map_elements` without specifying `return_dtype` can lead to unpredictable results. Specify `return_dtype` to silence this warning.\n",
      "sys:1: MapWithoutReturnDtypeWarning: Calling `map_elements` without specifying `return_dtype` can lead to unpredictable results. Specify `return_dtype` to silence this warning.\n",
      "sys:1: MapWithoutReturnDtypeWarning: Calling `map_elements` without specifying `return_dtype` can lead to unpredictable results. Specify `return_dtype` to silence this warning.\n",
      "sys:1: MapWithoutReturnDtypeWarning: Calling `map_elements` without specifying `return_dtype` can lead to unpredictable results. Specify `return_dtype` to silence this warning.\n"
     ]
    }
   ],
   "source": [
    "LIQUIDATION_EVENT_SIG = \"event LiquidationCall(address indexed collateralAsset, address indexed debtAsset, address indexed user, uint256 debtToCover, uint256 liquidatedCollateralAmount, address liquidator, bool receiveAToken);\"\n",
    "LIQUIDATION_EVENT_HASH = \"0xe413a321e8681d831f4dbccbca790d2952b56f977908e45be37335533e005286\"\n",
    "AAVE_V3_POOL = \"0x87870Bca3F3fD6335C3F4ce8392D69350B4fA4E2\"\n",
    "AAVE_V2_POOL = \"0x7d2768dE32b0b80b7a3454c06BdAc94A69DDc7A9\"\n",
    "\n",
    "# Collect the raw events with specific cryo params\n",
    "paramsV3 = {\n",
    "    \"datatype\": \"events\",\n",
    "    \"blocks\": [\"16M:19M\"], # AaveV3 deployed at 16291127\n",
    "    \"inner_request_size\": 100_000,\n",
    "    \"contract\": [AAVE_V3_POOL],\n",
    "    \"topic0\": [LIQUIDATION_EVENT_HASH]\n",
    "}\n",
    "paramsV2 = {\n",
    "    \"datatype\": \"events\",\n",
    "    \"blocks\": [\"13M:19M\"], # AaveV2 deployed at 11362579\n",
    "    \"inner_request_size\": 100_000,\n",
    "    \"contract\": [AAVE_V2_POOL],\n",
    "    \"topic0\": [LIQUIDATION_EVENT_HASH]\n",
    "}\n",
    "\n",
    "# Collect the raw events with cryo\n",
    "liquidations_raw = pl.concat([cryo.collect(**paramsV2), cryo.collect(**paramsV3)])\n",
    "\n",
    "# Parse the raw events to a DataFrame with a specific event signature\n",
    "liquidations = parse_raw_events(liquidations_raw, LIQUIDATION_EVENT_SIG)\n",
    "\n",
    "# Add timestamps\n",
    "liquidations = liquidations.join(blocks, on='block_number', how=\"left\")"
   ]
  },
  {
   "cell_type": "code",
   "execution_count": 27,
   "metadata": {},
   "outputs": [
    {
     "name": "stdout",
     "output_type": "stream",
     "text": [
      "0x7fc66500c84a76ad7e9c93437bfc5ac33e2ddae9\n",
      "Parsing Event name: AnswerUpdated\n",
      "Indexed types: []\n",
      "Data types: [('int256', 'current'), ('uint256', 'roundId'), ('uint256', 'timestamp')]\n"
     ]
    },
    {
     "name": "stderr",
     "output_type": "stream",
     "text": [
      "sys:1: MapWithoutReturnDtypeWarning: Calling `map_elements` without specifying `return_dtype` can lead to unpredictable results. Specify `return_dtype` to silence this warning.\n",
      "sys:1: MapWithoutReturnDtypeWarning: Calling `map_elements` without specifying `return_dtype` can lead to unpredictable results. Specify `return_dtype` to silence this warning.\n",
      "sys:1: MapWithoutReturnDtypeWarning: Calling `map_elements` without specifying `return_dtype` can lead to unpredictable results. Specify `return_dtype` to silence this warning.\n"
     ]
    },
    {
     "name": "stdout",
     "output_type": "stream",
     "text": [
      "0xdac17f958d2ee523a2206206994597c13d831ec7\n",
      "Parsing Event name: AnswerUpdated\n",
      "Indexed types: []\n",
      "Data types: [('int256', 'current'), ('uint256', 'roundId'), ('uint256', 'timestamp')]\n"
     ]
    },
    {
     "name": "stderr",
     "output_type": "stream",
     "text": [
      "sys:1: MapWithoutReturnDtypeWarning: Calling `map_elements` without specifying `return_dtype` can lead to unpredictable results. Specify `return_dtype` to silence this warning.\n",
      "sys:1: MapWithoutReturnDtypeWarning: Calling `map_elements` without specifying `return_dtype` can lead to unpredictable results. Specify `return_dtype` to silence this warning.\n",
      "sys:1: MapWithoutReturnDtypeWarning: Calling `map_elements` without specifying `return_dtype` can lead to unpredictable results. Specify `return_dtype` to silence this warning.\n"
     ]
    },
    {
     "name": "stdout",
     "output_type": "stream",
     "text": [
      "0x408e41876cccdc0f92210600ef50372656052a38\n",
      "0xe41d2489571d322189246dafa5ebde1f4699f498\n",
      "Parsing Event name: AnswerUpdated\n",
      "Indexed types: []\n",
      "Data types: [('int256', 'current'), ('uint256', 'roundId'), ('uint256', 'timestamp')]\n"
     ]
    },
    {
     "name": "stderr",
     "output_type": "stream",
     "text": [
      "sys:1: MapWithoutReturnDtypeWarning: Calling `map_elements` without specifying `return_dtype` can lead to unpredictable results. Specify `return_dtype` to silence this warning.\n",
      "sys:1: MapWithoutReturnDtypeWarning: Calling `map_elements` without specifying `return_dtype` can lead to unpredictable results. Specify `return_dtype` to silence this warning.\n",
      "sys:1: MapWithoutReturnDtypeWarning: Calling `map_elements` without specifying `return_dtype` can lead to unpredictable results. Specify `return_dtype` to silence this warning.\n"
     ]
    },
    {
     "name": "stdout",
     "output_type": "stream",
     "text": [
      "0xd533a949740bb3306d119cc777fa900ba034cd52\n",
      "Parsing Event name: AnswerUpdated\n",
      "Indexed types: []\n",
      "Data types: [('int256', 'current'), ('uint256', 'roundId'), ('uint256', 'timestamp')]\n"
     ]
    },
    {
     "name": "stderr",
     "output_type": "stream",
     "text": [
      "sys:1: MapWithoutReturnDtypeWarning: Calling `map_elements` without specifying `return_dtype` can lead to unpredictable results. Specify `return_dtype` to silence this warning.\n",
      "sys:1: MapWithoutReturnDtypeWarning: Calling `map_elements` without specifying `return_dtype` can lead to unpredictable results. Specify `return_dtype` to silence this warning.\n",
      "sys:1: MapWithoutReturnDtypeWarning: Calling `map_elements` without specifying `return_dtype` can lead to unpredictable results. Specify `return_dtype` to silence this warning.\n"
     ]
    },
    {
     "name": "stdout",
     "output_type": "stream",
     "text": [
      "0x0f5d2fb29fb7d3cfee444a200298f468908cc942\n",
      "Parsing Event name: AnswerUpdated\n",
      "Indexed types: []\n",
      "Data types: [('int256', 'current'), ('uint256', 'roundId'), ('uint256', 'timestamp')]\n"
     ]
    },
    {
     "name": "stderr",
     "output_type": "stream",
     "text": [
      "sys:1: MapWithoutReturnDtypeWarning: Calling `map_elements` without specifying `return_dtype` can lead to unpredictable results. Specify `return_dtype` to silence this warning.\n",
      "sys:1: MapWithoutReturnDtypeWarning: Calling `map_elements` without specifying `return_dtype` can lead to unpredictable results. Specify `return_dtype` to silence this warning.\n",
      "sys:1: MapWithoutReturnDtypeWarning: Calling `map_elements` without specifying `return_dtype` can lead to unpredictable results. Specify `return_dtype` to silence this warning.\n"
     ]
    },
    {
     "name": "stdout",
     "output_type": "stream",
     "text": [
      "0xc011a73ee8576fb46f5e1c5751ca3b9fe0af2a6f\n",
      "Parsing Event name: AnswerUpdated\n",
      "Indexed types: []\n",
      "Data types: [('int256', 'current'), ('uint256', 'roundId'), ('uint256', 'timestamp')]\n"
     ]
    },
    {
     "name": "stderr",
     "output_type": "stream",
     "text": [
      "sys:1: MapWithoutReturnDtypeWarning: Calling `map_elements` without specifying `return_dtype` can lead to unpredictable results. Specify `return_dtype` to silence this warning.\n",
      "sys:1: MapWithoutReturnDtypeWarning: Calling `map_elements` without specifying `return_dtype` can lead to unpredictable results. Specify `return_dtype` to silence this warning.\n",
      "sys:1: MapWithoutReturnDtypeWarning: Calling `map_elements` without specifying `return_dtype` can lead to unpredictable results. Specify `return_dtype` to silence this warning.\n"
     ]
    },
    {
     "name": "stdout",
     "output_type": "stream",
     "text": [
      "0x4e3fbd56cd56c3e72c1403e103b45db9da5b9d2b\n",
      "Parsing Event name: AnswerUpdated\n",
      "Indexed types: []\n",
      "Data types: [('int256', 'current'), ('uint256', 'roundId'), ('uint256', 'timestamp')]\n"
     ]
    },
    {
     "name": "stderr",
     "output_type": "stream",
     "text": [
      "sys:1: MapWithoutReturnDtypeWarning: Calling `map_elements` without specifying `return_dtype` can lead to unpredictable results. Specify `return_dtype` to silence this warning.\n",
      "sys:1: MapWithoutReturnDtypeWarning: Calling `map_elements` without specifying `return_dtype` can lead to unpredictable results. Specify `return_dtype` to silence this warning.\n",
      "sys:1: MapWithoutReturnDtypeWarning: Calling `map_elements` without specifying `return_dtype` can lead to unpredictable results. Specify `return_dtype` to silence this warning.\n"
     ]
    },
    {
     "name": "stdout",
     "output_type": "stream",
     "text": [
      "0x1f9840a85d5af5bf1d1762f925bdaddc4201f984\n",
      "Parsing Event name: AnswerUpdated\n",
      "Indexed types: []\n",
      "Data types: [('int256', 'current'), ('uint256', 'roundId'), ('uint256', 'timestamp')]\n"
     ]
    },
    {
     "name": "stderr",
     "output_type": "stream",
     "text": [
      "sys:1: MapWithoutReturnDtypeWarning: Calling `map_elements` without specifying `return_dtype` can lead to unpredictable results. Specify `return_dtype` to silence this warning.\n",
      "sys:1: MapWithoutReturnDtypeWarning: Calling `map_elements` without specifying `return_dtype` can lead to unpredictable results. Specify `return_dtype` to silence this warning.\n",
      "sys:1: MapWithoutReturnDtypeWarning: Calling `map_elements` without specifying `return_dtype` can lead to unpredictable results. Specify `return_dtype` to silence this warning.\n"
     ]
    },
    {
     "name": "stdout",
     "output_type": "stream",
     "text": [
      "0x0000000000085d4780b73119b644ae5ecd22b376\n",
      "Parsing Event name: AnswerUpdated\n",
      "Indexed types: []\n",
      "Data types: [('int256', 'current'), ('uint256', 'roundId'), ('uint256', 'timestamp')]\n"
     ]
    },
    {
     "name": "stderr",
     "output_type": "stream",
     "text": [
      "sys:1: MapWithoutReturnDtypeWarning: Calling `map_elements` without specifying `return_dtype` can lead to unpredictable results. Specify `return_dtype` to silence this warning.\n",
      "sys:1: MapWithoutReturnDtypeWarning: Calling `map_elements` without specifying `return_dtype` can lead to unpredictable results. Specify `return_dtype` to silence this warning.\n",
      "sys:1: MapWithoutReturnDtypeWarning: Calling `map_elements` without specifying `return_dtype` can lead to unpredictable results. Specify `return_dtype` to silence this warning.\n"
     ]
    },
    {
     "name": "stdout",
     "output_type": "stream",
     "text": [
      "0x0d8775f648430679a709e98d2b0cb6250d2887ef\n",
      "Parsing Event name: AnswerUpdated\n",
      "Indexed types: []\n",
      "Data types: [('int256', 'current'), ('uint256', 'roundId'), ('uint256', 'timestamp')]\n"
     ]
    },
    {
     "name": "stderr",
     "output_type": "stream",
     "text": [
      "sys:1: MapWithoutReturnDtypeWarning: Calling `map_elements` without specifying `return_dtype` can lead to unpredictable results. Specify `return_dtype` to silence this warning.\n",
      "sys:1: MapWithoutReturnDtypeWarning: Calling `map_elements` without specifying `return_dtype` can lead to unpredictable results. Specify `return_dtype` to silence this warning.\n",
      "sys:1: MapWithoutReturnDtypeWarning: Calling `map_elements` without specifying `return_dtype` can lead to unpredictable results. Specify `return_dtype` to silence this warning.\n"
     ]
    },
    {
     "name": "stdout",
     "output_type": "stream",
     "text": [
      "0xc18360217d8f7ab5e7c516566761ea12ce7f9d72\n",
      "Parsing Event name: AnswerUpdated\n",
      "Indexed types: []\n",
      "Data types: [('int256', 'current'), ('uint256', 'roundId'), ('uint256', 'timestamp')]\n"
     ]
    },
    {
     "name": "stderr",
     "output_type": "stream",
     "text": [
      "sys:1: MapWithoutReturnDtypeWarning: Calling `map_elements` without specifying `return_dtype` can lead to unpredictable results. Specify `return_dtype` to silence this warning.\n",
      "sys:1: MapWithoutReturnDtypeWarning: Calling `map_elements` without specifying `return_dtype` can lead to unpredictable results. Specify `return_dtype` to silence this warning.\n",
      "sys:1: MapWithoutReturnDtypeWarning: Calling `map_elements` without specifying `return_dtype` can lead to unpredictable results. Specify `return_dtype` to silence this warning.\n"
     ]
    },
    {
     "name": "stdout",
     "output_type": "stream",
     "text": [
      "0xae7ab96520de3a18e5e111b5eaab095312d7fe84\n",
      "Parsing Event name: AnswerUpdated\n",
      "Indexed types: []\n",
      "Data types: [('int256', 'current'), ('uint256', 'roundId'), ('uint256', 'timestamp')]\n"
     ]
    },
    {
     "name": "stderr",
     "output_type": "stream",
     "text": [
      "sys:1: MapWithoutReturnDtypeWarning: Calling `map_elements` without specifying `return_dtype` can lead to unpredictable results. Specify `return_dtype` to silence this warning.\n",
      "sys:1: MapWithoutReturnDtypeWarning: Calling `map_elements` without specifying `return_dtype` can lead to unpredictable results. Specify `return_dtype` to silence this warning.\n",
      "sys:1: MapWithoutReturnDtypeWarning: Calling `map_elements` without specifying `return_dtype` can lead to unpredictable results. Specify `return_dtype` to silence this warning.\n"
     ]
    },
    {
     "name": "stdout",
     "output_type": "stream",
     "text": [
      "0x7f39c581f595b53c5cb19bd0b3f8da6c935e2ca0\n",
      "Parsing Event name: AnswerUpdated\n"
     ]
    },
    {
     "name": "stderr",
     "output_type": "stream",
     "text": [
      "sys:1: MapWithoutReturnDtypeWarning: Calling `map_elements` without specifying `return_dtype` can lead to unpredictable results. Specify `return_dtype` to silence this warning.\n"
     ]
    },
    {
     "ename": "ComputeError",
     "evalue": "ComputeError: The output type of the 'apply' function cannot be determined.\nThe function was never called because 'skip_nulls=True' and all values are null.\nConsider setting 'skip_nulls=False' or setting the 'return_dtype'.",
     "output_type": "error",
     "traceback": [
      "\u001b[0;31m---------------------------------------------------------------------------\u001b[0m",
      "\u001b[0;31mComputeError\u001b[0m                              Traceback (most recent call last)",
      "Cell \u001b[0;32mIn[27], line 32\u001b[0m\n\u001b[1;32m     28\u001b[0m     prices \u001b[38;5;241m=\u001b[39m prices\u001b[38;5;241m.\u001b[39mjoin(blocks, on\u001b[38;5;241m=\u001b[39m\u001b[38;5;124m'\u001b[39m\u001b[38;5;124mblock_number\u001b[39m\u001b[38;5;124m'\u001b[39m, how\u001b[38;5;241m=\u001b[39m\u001b[38;5;124m\"\u001b[39m\u001b[38;5;124mleft\u001b[39m\u001b[38;5;124m\"\u001b[39m)\n\u001b[1;32m     30\u001b[0m     \u001b[38;5;28;01mreturn\u001b[39;00m prices\n\u001b[0;32m---> 32\u001b[0m prices \u001b[38;5;241m=\u001b[39m pl\u001b[38;5;241m.\u001b[39mconcat(\u001b[43m[\u001b[49m\u001b[43mhistorical_prices\u001b[49m\u001b[43m(\u001b[49m\u001b[43maddress\u001b[49m\u001b[43m)\u001b[49m\u001b[43m \u001b[49m\u001b[38;5;28;43;01mfor\u001b[39;49;00m\u001b[43m \u001b[49m\u001b[43maddress\u001b[49m\u001b[43m \u001b[49m\u001b[38;5;129;43;01min\u001b[39;49;00m\u001b[43m \u001b[49m\u001b[43mliquidations\u001b[49m\u001b[43m[\u001b[49m\u001b[38;5;124;43m'\u001b[39;49m\u001b[38;5;124;43mcollateralAsset\u001b[39;49m\u001b[38;5;124;43m'\u001b[39;49m\u001b[43m]\u001b[49m\u001b[38;5;241;43m.\u001b[39;49m\u001b[43munique\u001b[49m\u001b[43m(\u001b[49m\u001b[43m)\u001b[49m\u001b[43m]\u001b[49m)\n\u001b[1;32m     33\u001b[0m prices\u001b[38;5;241m.\u001b[39mhead(\u001b[38;5;241m5\u001b[39m)\n",
      "Cell \u001b[0;32mIn[27], line 32\u001b[0m, in \u001b[0;36m<listcomp>\u001b[0;34m(.0)\u001b[0m\n\u001b[1;32m     28\u001b[0m     prices \u001b[38;5;241m=\u001b[39m prices\u001b[38;5;241m.\u001b[39mjoin(blocks, on\u001b[38;5;241m=\u001b[39m\u001b[38;5;124m'\u001b[39m\u001b[38;5;124mblock_number\u001b[39m\u001b[38;5;124m'\u001b[39m, how\u001b[38;5;241m=\u001b[39m\u001b[38;5;124m\"\u001b[39m\u001b[38;5;124mleft\u001b[39m\u001b[38;5;124m\"\u001b[39m)\n\u001b[1;32m     30\u001b[0m     \u001b[38;5;28;01mreturn\u001b[39;00m prices\n\u001b[0;32m---> 32\u001b[0m prices \u001b[38;5;241m=\u001b[39m pl\u001b[38;5;241m.\u001b[39mconcat([\u001b[43mhistorical_prices\u001b[49m\u001b[43m(\u001b[49m\u001b[43maddress\u001b[49m\u001b[43m)\u001b[49m \u001b[38;5;28;01mfor\u001b[39;00m address \u001b[38;5;129;01min\u001b[39;00m liquidations[\u001b[38;5;124m'\u001b[39m\u001b[38;5;124mcollateralAsset\u001b[39m\u001b[38;5;124m'\u001b[39m]\u001b[38;5;241m.\u001b[39munique()])\n\u001b[1;32m     33\u001b[0m prices\u001b[38;5;241m.\u001b[39mhead(\u001b[38;5;241m5\u001b[39m)\n",
      "Cell \u001b[0;32mIn[27], line 27\u001b[0m, in \u001b[0;36mhistorical_prices\u001b[0;34m(address)\u001b[0m\n\u001b[1;32m     18\u001b[0m params \u001b[38;5;241m=\u001b[39m {\n\u001b[1;32m     19\u001b[0m     \u001b[38;5;124m\"\u001b[39m\u001b[38;5;124mdatatype\u001b[39m\u001b[38;5;124m\"\u001b[39m: \u001b[38;5;124m\"\u001b[39m\u001b[38;5;124mevents\u001b[39m\u001b[38;5;124m\"\u001b[39m,\n\u001b[1;32m     20\u001b[0m     \u001b[38;5;124m\"\u001b[39m\u001b[38;5;124mblocks\u001b[39m\u001b[38;5;124m\"\u001b[39m: [\u001b[38;5;124m\"\u001b[39m\u001b[38;5;124m13M:19M\u001b[39m\u001b[38;5;124m\"\u001b[39m], \u001b[38;5;66;03m# AaveV2 deployed at 11362579\u001b[39;00m\n\u001b[0;32m   (...)\u001b[0m\n\u001b[1;32m     23\u001b[0m     \u001b[38;5;124m\"\u001b[39m\u001b[38;5;124mtopic0\u001b[39m\u001b[38;5;124m\"\u001b[39m: [ANSWER_UPDATED_HASH]\n\u001b[1;32m     24\u001b[0m }\n\u001b[1;32m     26\u001b[0m prices_raw \u001b[38;5;241m=\u001b[39m cryo\u001b[38;5;241m.\u001b[39mcollect(\u001b[38;5;241m*\u001b[39m\u001b[38;5;241m*\u001b[39mparams)\n\u001b[0;32m---> 27\u001b[0m prices \u001b[38;5;241m=\u001b[39m \u001b[43mparse_raw_events\u001b[49m\u001b[43m(\u001b[49m\u001b[43mprices_raw\u001b[49m\u001b[43m,\u001b[49m\u001b[43m \u001b[49m\u001b[43mANSWER_UPDATED_SIG\u001b[49m\u001b[43m)\u001b[49m\n\u001b[1;32m     28\u001b[0m prices \u001b[38;5;241m=\u001b[39m prices\u001b[38;5;241m.\u001b[39mjoin(blocks, on\u001b[38;5;241m=\u001b[39m\u001b[38;5;124m'\u001b[39m\u001b[38;5;124mblock_number\u001b[39m\u001b[38;5;124m'\u001b[39m, how\u001b[38;5;241m=\u001b[39m\u001b[38;5;124m\"\u001b[39m\u001b[38;5;124mleft\u001b[39m\u001b[38;5;124m\"\u001b[39m)\n\u001b[1;32m     30\u001b[0m \u001b[38;5;28;01mreturn\u001b[39;00m prices\n",
      "Cell \u001b[0;32mIn[24], line 59\u001b[0m, in \u001b[0;36mparse_raw_events\u001b[0;34m(raw_events, signature)\u001b[0m\n\u001b[1;32m     57\u001b[0m dfs \u001b[38;5;241m=\u001b[39m []\n\u001b[1;32m     58\u001b[0m \u001b[38;5;28;01mfor\u001b[39;00m index, (\u001b[38;5;28mtype\u001b[39m, name) \u001b[38;5;129;01min\u001b[39;00m \u001b[38;5;28menumerate\u001b[39m(data_types):\n\u001b[0;32m---> 59\u001b[0m     data_events_cur_df \u001b[38;5;241m=\u001b[39m \u001b[43mraw_events\u001b[49m\u001b[38;5;241;43m.\u001b[39;49m\u001b[43mselect\u001b[49m\u001b[43m(\u001b[49m\u001b[43m[\u001b[49m\n\u001b[1;32m     60\u001b[0m \u001b[43m        \u001b[49m\u001b[43mpl\u001b[49m\u001b[38;5;241;43m.\u001b[39;49m\u001b[43mcol\u001b[49m\u001b[43m(\u001b[49m\u001b[38;5;124;43m\"\u001b[39;49m\u001b[38;5;124;43mdata\u001b[39;49m\u001b[38;5;124;43m\"\u001b[39;49m\u001b[43m)\u001b[49m\u001b[38;5;241;43m.\u001b[39;49m\u001b[43mmap_elements\u001b[49m\u001b[43m(\u001b[49m\u001b[38;5;28;43;01mlambda\u001b[39;49;00m\u001b[43m \u001b[49m\u001b[43mx\u001b[49m\u001b[43m:\u001b[49m\u001b[43m \u001b[49m\u001b[43mconvert_to_type\u001b[49m\u001b[43m(\u001b[49m\u001b[43mx\u001b[49m\u001b[43m,\u001b[49m\u001b[43m \u001b[49m\u001b[38;5;28;43mtype\u001b[39;49m\u001b[43m,\u001b[49m\u001b[43m \u001b[49m\u001b[38;5;241;43m32\u001b[39;49m\u001b[38;5;241;43m*\u001b[39;49m\u001b[43mindex\u001b[49m\u001b[43m)\u001b[49m\u001b[43m)\u001b[49m\u001b[38;5;241;43m.\u001b[39;49m\u001b[43malias\u001b[49m\u001b[43m(\u001b[49m\u001b[43mname\u001b[49m\u001b[43m)\u001b[49m\n\u001b[1;32m     61\u001b[0m \u001b[43m    \u001b[49m\u001b[43m]\u001b[49m\u001b[43m \u001b[49m\u001b[38;5;241;43m+\u001b[39;49m\u001b[43m \u001b[49m\u001b[43m[\u001b[49m\u001b[43mpl\u001b[49m\u001b[38;5;241;43m.\u001b[39;49m\u001b[43mcol\u001b[49m\u001b[43m(\u001b[49m\u001b[38;5;124;43m\"\u001b[39;49m\u001b[38;5;124;43mblock_number\u001b[39;49m\u001b[38;5;124;43m\"\u001b[39;49m\u001b[43m)\u001b[49m\u001b[43m,\u001b[49m\u001b[43m \u001b[49m\u001b[43mpl\u001b[49m\u001b[38;5;241;43m.\u001b[39;49m\u001b[43mcol\u001b[49m\u001b[43m(\u001b[49m\u001b[38;5;124;43m\"\u001b[39;49m\u001b[38;5;124;43mtransaction_index\u001b[39;49m\u001b[38;5;124;43m\"\u001b[39;49m\u001b[43m,\u001b[49m\u001b[43m \u001b[49m\u001b[38;5;124;43m\"\u001b[39;49m\u001b[38;5;124;43mlog_index\u001b[39;49m\u001b[38;5;124;43m\"\u001b[39;49m\u001b[43m)\u001b[49m\u001b[43m]\u001b[49m\u001b[43m)\u001b[49m\n\u001b[1;32m     62\u001b[0m     dfs\u001b[38;5;241m.\u001b[39mappend(data_events_cur_df)\n\u001b[1;32m     64\u001b[0m indexed_events_df \u001b[38;5;241m=\u001b[39m raw_events\u001b[38;5;241m.\u001b[39mselect([\n\u001b[1;32m     65\u001b[0m     pl\u001b[38;5;241m.\u001b[39mcol(\u001b[38;5;124mf\u001b[39m\u001b[38;5;124m\"\u001b[39m\u001b[38;5;124mtopic\u001b[39m\u001b[38;5;132;01m{\u001b[39;00m\u001b[38;5;241m1\u001b[39m\u001b[38;5;241m+\u001b[39mindex\u001b[38;5;132;01m}\u001b[39;00m\u001b[38;5;124m\"\u001b[39m)\u001b[38;5;241m.\u001b[39mmap_elements(\u001b[38;5;28;01mlambda\u001b[39;00m x: convert_to_type(x, \u001b[38;5;28mtype\u001b[39m))\u001b[38;5;241m.\u001b[39malias(name)\n\u001b[1;32m     66\u001b[0m     \u001b[38;5;28;01mfor\u001b[39;00m index, (\u001b[38;5;28mtype\u001b[39m, name) \u001b[38;5;129;01min\u001b[39;00m \u001b[38;5;28menumerate\u001b[39m(indexed_types)\n\u001b[1;32m     67\u001b[0m ] \u001b[38;5;241m+\u001b[39m [pl\u001b[38;5;241m.\u001b[39mcol(\u001b[38;5;124m\"\u001b[39m\u001b[38;5;124mblock_number\u001b[39m\u001b[38;5;124m\"\u001b[39m), pl\u001b[38;5;241m.\u001b[39mcol(\u001b[38;5;124m\"\u001b[39m\u001b[38;5;124mtransaction_index\u001b[39m\u001b[38;5;124m\"\u001b[39m, \u001b[38;5;124m\"\u001b[39m\u001b[38;5;124mlog_index\u001b[39m\u001b[38;5;124m\"\u001b[39m)])\n",
      "File \u001b[0;32m/usr/local/lib/python3.11/site-packages/polars/dataframe/frame.py:7701\u001b[0m, in \u001b[0;36mDataFrame.select\u001b[0;34m(self, *exprs, **named_exprs)\u001b[0m\n\u001b[1;32m   7601\u001b[0m \u001b[38;5;28;01mdef\u001b[39;00m \u001b[38;5;21mselect\u001b[39m(\n\u001b[1;32m   7602\u001b[0m     \u001b[38;5;28mself\u001b[39m, \u001b[38;5;241m*\u001b[39mexprs: IntoExpr \u001b[38;5;241m|\u001b[39m Iterable[IntoExpr], \u001b[38;5;241m*\u001b[39m\u001b[38;5;241m*\u001b[39mnamed_exprs: IntoExpr\n\u001b[1;32m   7603\u001b[0m ) \u001b[38;5;241m-\u001b[39m\u001b[38;5;241m>\u001b[39m DataFrame:\n\u001b[1;32m   7604\u001b[0m \u001b[38;5;250m    \u001b[39m\u001b[38;5;124;03m\"\"\"\u001b[39;00m\n\u001b[1;32m   7605\u001b[0m \u001b[38;5;124;03m    Select columns from this DataFrame.\u001b[39;00m\n\u001b[1;32m   7606\u001b[0m \n\u001b[0;32m   (...)\u001b[0m\n\u001b[1;32m   7699\u001b[0m \u001b[38;5;124;03m    └───────────┘\u001b[39;00m\n\u001b[1;32m   7700\u001b[0m \u001b[38;5;124;03m    \"\"\"\u001b[39;00m\n\u001b[0;32m-> 7701\u001b[0m     \u001b[38;5;28;01mreturn\u001b[39;00m \u001b[38;5;28;43mself\u001b[39;49m\u001b[38;5;241;43m.\u001b[39;49m\u001b[43mlazy\u001b[49m\u001b[43m(\u001b[49m\u001b[43m)\u001b[49m\u001b[38;5;241;43m.\u001b[39;49m\u001b[43mselect\u001b[49m\u001b[43m(\u001b[49m\u001b[38;5;241;43m*\u001b[39;49m\u001b[43mexprs\u001b[49m\u001b[43m,\u001b[49m\u001b[43m \u001b[49m\u001b[38;5;241;43m*\u001b[39;49m\u001b[38;5;241;43m*\u001b[39;49m\u001b[43mnamed_exprs\u001b[49m\u001b[43m)\u001b[49m\u001b[38;5;241;43m.\u001b[39;49m\u001b[43mcollect\u001b[49m\u001b[43m(\u001b[49m\u001b[43m_eager\u001b[49m\u001b[38;5;241;43m=\u001b[39;49m\u001b[38;5;28;43;01mTrue\u001b[39;49;00m\u001b[43m)\u001b[49m\n",
      "File \u001b[0;32m/usr/local/lib/python3.11/site-packages/polars/lazyframe/frame.py:1708\u001b[0m, in \u001b[0;36mLazyFrame.collect\u001b[0;34m(self, type_coercion, predicate_pushdown, projection_pushdown, simplify_expression, slice_pushdown, comm_subplan_elim, comm_subexpr_elim, no_optimization, streaming, background, _eager)\u001b[0m\n\u001b[1;32m   1705\u001b[0m \u001b[38;5;28;01mif\u001b[39;00m background:\n\u001b[1;32m   1706\u001b[0m     \u001b[38;5;28;01mreturn\u001b[39;00m InProcessQuery(ldf\u001b[38;5;241m.\u001b[39mcollect_concurrently())\n\u001b[0;32m-> 1708\u001b[0m \u001b[38;5;28;01mreturn\u001b[39;00m wrap_df(ldf\u001b[38;5;241m.\u001b[39mcollect())\n",
      "\u001b[0;31mComputeError\u001b[0m: ComputeError: The output type of the 'apply' function cannot be determined.\nThe function was never called because 'skip_nulls=True' and all values are null.\nConsider setting 'skip_nulls=False' or setting the 'return_dtype'."
     ]
    }
   ],
   "source": [
    "# Prices\n",
    "\n",
    "import requests\n",
    "\n",
    "url = \"https://raw.githubusercontent.com/morpho-org/morpho-risk-api/main/src/schemas/asset-price-mappings/oracle-prices.json?token=GHSAT0AAAAAACOKU6H3FFUYYGOXAHJHZJSSZRCURHQ\"\n",
    "response = requests.get(url)\n",
    "data = response.json()\n",
    "aggregators = pl.DataFrame(data)\n",
    "\n",
    "ANSWER_UPDATED_SIG = \"AnswerUpdated(int256 current,uint256 roundId,uint256 timestamp)\"\n",
    "ANSWER_UPDATED_HASH = \"0x0559884fd3a460db3073b7fc896cc77986f16e378210ded43186175bf646fc5f\"\n",
    "\n",
    "def historical_prices(address):\n",
    "    # USD\n",
    "    print(address)\n",
    "    if aggregators.filter(pl.col('assetAddress').cast(pl.Utf8).str.to_lowercase() == address).is_empty():\n",
    "        print(\"skipped\")\n",
    "        return\n",
    "    params = {\n",
    "        \"datatype\": \"events\",\n",
    "        \"blocks\": [\"13M:19M\"], # AaveV2 deployed at 11362579\n",
    "        \"inner_request_size\": 100_000,\n",
    "        \"contract\": [aggregators.filter(pl.col('assetAddress').cast(pl.Utf8).str.to_lowercase() == address).row(0)[1]],\n",
    "        \"topic0\": [ANSWER_UPDATED_HASH]\n",
    "    }\n",
    "\n",
    "    prices_raw = cryo.collect(**params)\n",
    "    prices = parse_raw_events(prices_raw, ANSWER_UPDATED_SIG)\n",
    "    prices = prices.join(blocks, on='block_number', how=\"left\")\n",
    "\n",
    "    return prices\n",
    "\n",
    "prices = pl.concat([historical_prices(address) for address in liquidations['collateralAsset'].unique()])\n",
    "prices.head(5)"
   ]
  },
  {
   "cell_type": "code",
   "execution_count": 41,
   "metadata": {},
   "outputs": [
    {
     "data": {
      "image/png": "[encoded data removed]",
      "text/plain": [
       "<Figure size 640x480 with 1 Axes>"
      ]
     },
     "metadata": {},
     "output_type": "display_data"
    }
   ],
   "source": [
    "# Monthly liquidations\n",
    "\n",
    "import matplotlib.pyplot as plt\n",
    "\n",
    "# Extract year and month and count the number of liquidations\n",
    "monthly_liquidations = liquidations.with_columns(pl.col(\"time\").dt.strftime(\"%Y-%m-%d\").alias(\"year_month\")).group_by(\"year_month\").agg(pl.len().alias(\"number_of_liquidations\"))\n",
    "monthly_liquidations = monthly_liquidations.sort(\"year_month\")\n",
    "\n",
    "# Plotting\n",
    "monthly_liquidations_df = monthly_liquidations.to_pandas()\n",
    "monthly_liquidations_df.plot(kind='bar', x='year_month', y='number_of_liquidations')\n",
    "# plt.xticks(rotation=45)\n",
    "# plt.figure(figsize=(15, 10))\n",
    "plt.gca().xaxis.set_major_locator(plt.MaxNLocator(30))\n",
    "plt.tight_layout()\n",
    "plt.show()"
   ]
  }
 ],
 "metadata": {
  "kernelspec": {
   "display_name": "Python 3",
   "language": "python",
   "name": "python3"
  },
  "language_info": {
   "codemirror_mode": {
    "name": "ipython",
    "version": 3
   },
   "file_extension": ".py",
   "mimetype": "text/x-python",
   "name": "python",
   "nbconvert_exporter": "python",
   "pygments_lexer": "ipython3",
   "version": "3.11.5"
  }
 },
 "nbformat": 4,
 "nbformat_minor": 2
}
